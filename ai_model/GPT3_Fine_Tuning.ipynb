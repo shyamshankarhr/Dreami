{
 "cells": [
  {
   "cell_type": "markdown",
   "metadata": {
    "pycharm": {
     "name": "#%% md\n"
    }
   },
   "source": []
  },
  {
   "cell_type": "markdown",
   "metadata": {
    "pycharm": {
     "name": "#%% md\n"
    }
   },
   "source": [
    "#### Make a text file containing the OpenAI key and keep it in the same directory as the notebook"
   ]
  },
  {
   "cell_type": "code",
   "execution_count": 1,
   "metadata": {
    "pycharm": {
     "name": "#%%\n"
    }
   },
   "outputs": [],
   "source": [
    "import openai\n",
    "with open('OpenAI_key.txt') as f:\n",
    "    lines = f.readlines()\n",
    "openai.api_key = str(lines[0])"
   ]
  },
  {
   "cell_type": "code",
   "execution_count": 2,
   "metadata": {
    "pycharm": {
     "name": "#%%\n"
    }
   },
   "outputs": [
    {
     "name": "stdout",
     "output_type": "stream",
     "text": [
      "{\n",
      "  \"bytes\": 595263,\n",
      "  \"created_at\": 1654625800,\n",
      "  \"filename\": \"file\",\n",
      "  \"id\": \"file-sdCJudiVTs3VAZanY7ZCUP8z\",\n",
      "  \"object\": \"file\",\n",
      "  \"purpose\": \"fine-tune\",\n",
      "  \"status\": \"uploaded\",\n",
      "  \"status_details\": null\n",
      "}\n"
     ]
    }
   ],
   "source": [
    "with open(\"newdata2.jsonl\", encoding ='utf-8') as f:\n",
    "    response = openai.File.create(file=f, purpose='fine-tune')\n",
    "print(response)"
   ]
  },
  {
   "cell_type": "code",
   "execution_count": 3,
   "metadata": {
    "pycharm": {
     "name": "#%%\n"
    }
   },
   "outputs": [
    {
     "name": "stdout",
     "output_type": "stream",
     "text": [
      "{\n",
      "  \"created_at\": 1654625860,\n",
      "  \"events\": [\n",
      "    {\n",
      "      \"created_at\": 1654625860,\n",
      "      \"level\": \"info\",\n",
      "      \"message\": \"Created fine-tune: ft-rLgZTJQDMeLP3UQFwrUpmSyL\",\n",
      "      \"object\": \"fine-tune-event\"\n",
      "    }\n",
      "  ],\n",
      "  \"fine_tuned_model\": null,\n",
      "  \"hyperparams\": {\n",
      "    \"batch_size\": null,\n",
      "    \"learning_rate_multiplier\": null,\n",
      "    \"n_epochs\": 4,\n",
      "    \"prompt_loss_weight\": 0.1\n",
      "  },\n",
      "  \"id\": \"ft-rLgZTJQDMeLP3UQFwrUpmSyL\",\n",
      "  \"model\": \"davinci\",\n",
      "  \"object\": \"fine-tune\",\n",
      "  \"organization_id\": \"org-dub5URuC9n7LQghnaXCZUOnd\",\n",
      "  \"result_files\": [],\n",
      "  \"status\": \"pending\",\n",
      "  \"training_files\": [\n",
      "    {\n",
      "      \"bytes\": 595263,\n",
      "      \"created_at\": 1654625800,\n",
      "      \"filename\": \"file\",\n",
      "      \"id\": \"file-sdCJudiVTs3VAZanY7ZCUP8z\",\n",
      "      \"object\": \"file\",\n",
      "      \"purpose\": \"fine-tune\",\n",
      "      \"status\": \"processed\",\n",
      "      \"status_details\": null\n",
      "    }\n",
      "  ],\n",
      "  \"updated_at\": 1654625860,\n",
      "  \"validation_files\": []\n",
      "}\n"
     ]
    }
   ],
   "source": [
    "response = openai.FineTune.create(training_file=\"file-sdCJudiVTs3VAZanY7ZCUP8z\", model='davinci', suffix='Dreami0.1')\n",
    "print(response)"
   ]
  },
  {
   "cell_type": "code",
   "execution_count": 21,
   "metadata": {
    "pycharm": {
     "name": "#%%\n"
    }
   },
   "outputs": [
    {
     "name": "stdout",
     "output_type": "stream",
     "text": [
      "{\n",
      "  \"created_at\": 1654625860,\n",
      "  \"events\": [\n",
      "    {\n",
      "      \"created_at\": 1654625860,\n",
      "      \"level\": \"info\",\n",
      "      \"message\": \"Created fine-tune: ft-rLgZTJQDMeLP3UQFwrUpmSyL\",\n",
      "      \"object\": \"fine-tune-event\"\n",
      "    },\n",
      "    {\n",
      "      \"created_at\": 1654625869,\n",
      "      \"level\": \"info\",\n",
      "      \"message\": \"Fine-tune costs $15.97\",\n",
      "      \"object\": \"fine-tune-event\"\n",
      "    },\n",
      "    {\n",
      "      \"created_at\": 1654625870,\n",
      "      \"level\": \"info\",\n",
      "      \"message\": \"Fine-tune enqueued. Queue number: 0\",\n",
      "      \"object\": \"fine-tune-event\"\n",
      "    },\n",
      "    {\n",
      "      \"created_at\": 1654626908,\n",
      "      \"level\": \"info\",\n",
      "      \"message\": \"Fine-tune started\",\n",
      "      \"object\": \"fine-tune-event\"\n",
      "    },\n",
      "    {\n",
      "      \"created_at\": 1654627299,\n",
      "      \"level\": \"info\",\n",
      "      \"message\": \"Completed epoch 1/4\",\n",
      "      \"object\": \"fine-tune-event\"\n",
      "    },\n",
      "    {\n",
      "      \"created_at\": 1654627496,\n",
      "      \"level\": \"info\",\n",
      "      \"message\": \"Completed epoch 2/4\",\n",
      "      \"object\": \"fine-tune-event\"\n",
      "    },\n",
      "    {\n",
      "      \"created_at\": 1654627697,\n",
      "      \"level\": \"info\",\n",
      "      \"message\": \"Completed epoch 3/4\",\n",
      "      \"object\": \"fine-tune-event\"\n",
      "    },\n",
      "    {\n",
      "      \"created_at\": 1654627893,\n",
      "      \"level\": \"info\",\n",
      "      \"message\": \"Completed epoch 4/4\",\n",
      "      \"object\": \"fine-tune-event\"\n",
      "    },\n",
      "    {\n",
      "      \"created_at\": 1654627932,\n",
      "      \"level\": \"info\",\n",
      "      \"message\": \"Uploaded model: davinci:ft-personal:dreami0-1-2022-06-07-18-52-10\",\n",
      "      \"object\": \"fine-tune-event\"\n",
      "    },\n",
      "    {\n",
      "      \"created_at\": 1654627936,\n",
      "      \"level\": \"info\",\n",
      "      \"message\": \"Uploaded result file: file-TIilLUKcuqt5k3ahwelOozL8\",\n",
      "      \"object\": \"fine-tune-event\"\n",
      "    },\n",
      "    {\n",
      "      \"created_at\": 1654627936,\n",
      "      \"level\": \"info\",\n",
      "      \"message\": \"Fine-tune succeeded\",\n",
      "      \"object\": \"fine-tune-event\"\n",
      "    }\n",
      "  ],\n",
      "  \"fine_tuned_model\": \"davinci:ft-personal:dreami0-1-2022-06-07-18-52-10\",\n",
      "  \"hyperparams\": {\n",
      "    \"batch_size\": 1,\n",
      "    \"learning_rate_multiplier\": 0.1,\n",
      "    \"n_epochs\": 4,\n",
      "    \"prompt_loss_weight\": 0.1\n",
      "  },\n",
      "  \"id\": \"ft-rLgZTJQDMeLP3UQFwrUpmSyL\",\n",
      "  \"model\": \"davinci\",\n",
      "  \"object\": \"fine-tune\",\n",
      "  \"organization_id\": \"org-dub5URuC9n7LQghnaXCZUOnd\",\n",
      "  \"result_files\": [\n",
      "    {\n",
      "      \"bytes\": 71736,\n",
      "      \"created_at\": 1654627934,\n",
      "      \"filename\": \"compiled_results.csv\",\n",
      "      \"id\": \"file-TIilLUKcuqt5k3ahwelOozL8\",\n",
      "      \"object\": \"file\",\n",
      "      \"purpose\": \"fine-tune-results\",\n",
      "      \"status\": \"processed\",\n",
      "      \"status_details\": null\n",
      "    }\n",
      "  ],\n",
      "  \"status\": \"succeeded\",\n",
      "  \"training_files\": [\n",
      "    {\n",
      "      \"bytes\": 595263,\n",
      "      \"created_at\": 1654625800,\n",
      "      \"filename\": \"file\",\n",
      "      \"id\": \"file-sdCJudiVTs3VAZanY7ZCUP8z\",\n",
      "      \"object\": \"file\",\n",
      "      \"purpose\": \"fine-tune\",\n",
      "      \"status\": \"processed\",\n",
      "      \"status_details\": null\n",
      "    }\n",
      "  ],\n",
      "  \"updated_at\": 1654627937,\n",
      "  \"validation_files\": []\n",
      "}\n"
     ]
    }
   ],
   "source": [
    "response = openai.FineTune.retrieve(id='ft-rLgZTJQDMeLP3UQFwrUpmSyL')\n",
    "print(response)"
   ]
  },
  {
   "cell_type": "code",
   "execution_count": 37,
   "metadata": {
    "pycharm": {
     "name": "#%%\n"
    }
   },
   "outputs": [],
   "source": [
    "def gpt3_classifier(item, fine_tuned_model, is_log=False):\n",
    "    result = openai.Completion.create(model=fine_tuned_model,\n",
    "                                      prompt=item,\n",
    "                                      max_tokens=600, temperature=0.7, frequency_penalty= 0.5 , presence_penalty= 0.5,  stop=[\" [END]\"] )['choices'][0]['text']\n",
    "\n",
    "    if is_log: print('- ', item, ': ', result)\n",
    "\n",
    "    return result"
   ]
  },
  {
   "cell_type": "code",
   "execution_count": 41,
   "metadata": {
    "pycharm": {
     "name": "#%%\n"
    },
    "scrolled": true
   },
   "outputs": [
    {
     "name": "stdout",
     "output_type": "stream",
     "text": [
      " The dream is about a battle within yourself that you are going through. The horse represents a force that is pulling you forward. You are trying to move ahead but something is holding you back, the black horse with half a face is saying there is something missing, something not good, something bad on that side. You can't find your phone because it's buried somewhere in your past that needs your attention so you can move forward.\n"
     ]
    }
   ],
   "source": [
    "inputresponse = gpt3_classifier('''Dream_Text: Dreamed there was a huge quake/explosion?  Then I see a black horse walking toward me for help, one half of it’s face was gone and covered in flies.  I tried to get away but the horse walked right beside me with the good side of his face pressed hard against mine.  No one would help me.  Then could not find my daughter (23), discovered her in a youth hostel with a male (not her boyfriend, but apparently old boyfriend left).  Had to go to the hardware store to pick up my cell phone, the first one I found was broken in half, but came to find that wasn’t mine… eventally found mine…?    ;  Background_Info: __ ;  Wakeup_State: __ ### ''' , 'davinci:ft-personal:dreami0-1-2022-06-07-18-52-10')\n",
    "print(inputresponse)"
   ]
  },
  {
   "cell_type": "code",
   "execution_count": null,
   "metadata": {},
   "outputs": [],
   "source": []
  },
  {
   "cell_type": "code",
   "execution_count": 38,
   "metadata": {},
   "outputs": [],
   "source": [
    "a = 'I dreamed of a bear'\n",
    "b = 'I am Shyam'\n",
    "c = ''"
   ]
  },
  {
   "cell_type": "code",
   "execution_count": 39,
   "metadata": {},
   "outputs": [],
   "source": [
    "if not b or b=='':\n",
    "    b = '__'\n",
    "    \n",
    "if not c or c=='':\n",
    "    c = '__'"
   ]
  },
  {
   "cell_type": "code",
   "execution_count": 40,
   "metadata": {},
   "outputs": [],
   "source": [
    "input_text = 'Dream_Text: '+a.strip()+'.'+' ; '+' Background_Info: '+b.strip()+' ; '+' Wakeup_State: '+c.strip()+' ###'"
   ]
  },
  {
   "cell_type": "code",
   "execution_count": 41,
   "metadata": {},
   "outputs": [
    {
     "data": {
      "text/plain": [
       "'Dream_Text: I dreamed of a bear. ;  Background_Info: I am Shyam ;  Wakeup_State: __ ###'"
      ]
     },
     "execution_count": 41,
     "metadata": {},
     "output_type": "execute_result"
    }
   ],
   "source": [
    "input_text"
   ]
  },
  {
   "cell_type": "code",
   "execution_count": null,
   "metadata": {},
   "outputs": [],
   "source": []
  }
 ],
 "metadata": {
  "kernelspec": {
   "display_name": "Python 3 (ipykernel)",
   "language": "python",
   "name": "python3"
  },
  "language_info": {
   "codemirror_mode": {
    "name": "ipython",
    "version": 3
   },
   "file_extension": ".py",
   "mimetype": "text/x-python",
   "name": "python",
   "nbconvert_exporter": "python",
   "pygments_lexer": "ipython3",
   "version": "3.9.7"
  }
 },
 "nbformat": 4,
 "nbformat_minor": 1
}
